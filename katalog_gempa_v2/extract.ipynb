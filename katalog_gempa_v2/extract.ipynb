{
 "cells": [
  {
   "cell_type": "code",
   "execution_count": 1,
   "metadata": {},
   "outputs": [],
   "source": [
    "# Membantu mem-fetch halaman\n",
    "import requests\n",
    "from requests.models import PreparedRequest\n",
    "from selectolax.parser import HTMLParser\n",
    "from random import random\n",
    "\n",
    "# Berkaitan tentang waktu\n",
    "from datetime import datetime, timedelta\n",
    "from time import sleep\n",
    "\n",
    "from typing import Optional  # pengingat tipe variabel, karena saya pikun\n",
    "from tqdm import tqdm  # akan menampilkan progress-bar ketika looping\n",
    "\n",
    "# Membantu mengolah data\n",
    "import pandas as pd\n",
    "from glob import glob\n",
    "from ast import literal_eval"
   ]
  },
  {
   "cell_type": "code",
   "execution_count": 2,
   "metadata": {},
   "outputs": [],
   "source": [
    "def get_data(filename: str):\n",
    "  ''' Ekstrak data gempa dari filename'''\n",
    "\n",
    "  with open(filename) as f:\n",
    "    # baca berkas HTML\n",
    "    text = f.read()\n",
    "\n",
    "  # Ambil data gempa. Data terletak di tag <script> ketiga dari terakhir.\n",
    "  the_script = HTMLParser(text).css('script')[-3].text()\n",
    "  data = the_script.split('var locations =')[1].split(';\\n')[0].strip()\n",
    "    \n",
    "  # Proses di atas akan mendapatkan data berupa list dalam format string.\n",
    "  # Kita perlu mengubahnya ke format yang lebih manusiawi, yakni list.\n",
    "  data = literal_eval(data) if data!='null' else []\n",
    "    \n",
    "  return data"
   ]
  },
  {
   "cell_type": "code",
   "execution_count": 3,
   "metadata": {},
   "outputs": [
    {
     "name": "stderr",
     "output_type": "stream",
     "text": [
      "100%|██████████| 644/644 [00:21<00:00, 29.79it/s]\n",
      "100%|██████████| 26/26 [00:00<00:00, 533.51it/s]\n"
     ]
    },
    {
     "data": {
      "text/plain": [
       "102541"
      ]
     },
     "execution_count": 3,
     "metadata": {},
     "output_type": "execute_result"
    }
   ],
   "source": [
    "total = []\n",
    "\n",
    "# Semua berkas HTML yang sudah kita unduh berada di folder `raw`\n",
    "for filename in tqdm(glob('./raw/*.html')):\n",
    "    total.extend(get_data(filename))\n",
    "\n",
    "# Ini ditulis dari masa depan. Semua data gempa yang bermasalah\n",
    "# akan dicoba untuk didownload ulang; mereka akan diletakkan di\n",
    "# folder `nasty`. \n",
    "for filename in tqdm(glob('./nasty/*.html')):\n",
    "    total.extend(get_data(filename))\n",
    "\n",
    "len(total)"
   ]
  },
  {
   "cell_type": "code",
   "execution_count": 4,
   "metadata": {},
   "outputs": [],
   "source": [
    "# Daftar kolom di data Gempa\n",
    "columns = [\n",
    "    'No', 'eventID', 'datetime', 'latitude', 'longitude', 'magnitude', 'mag_type',\n",
    "    'depth', 'phasecount', 'azimuth_gap', 'location', 'agency',  'datetimeFM',\n",
    "    'latFM', 'lonFM', 'magFM', 'magTypeFM', 'depthFM', 'phasecountFM', 'AzGapFM',\n",
    "    'scalarMoment', 'Mrr', 'Mtt', 'Mpp', 'Mrt', 'Mrp', 'Mtp', 'varianceReduction',\n",
    "    'doubleCouple', 'clvd', 'strikeNP1', 'dipNP1', 'rakeNP1', 'strikeNP2', 'dipNP2',\n",
    "    'rakeNP2', 'azgapFM', 'misfit',\n",
    "]\n",
    "\n",
    "# buat DataFrame\n",
    "df = pd.DataFrame(total, columns=columns)\n",
    "\n",
    "# Beberapa perapian kecil:\n",
    "# ubah kolom datetime dari string ke objek datetime\n",
    "df.datetime = pd.to_datetime(df.datetime)\n",
    "# buang kolom 'No' (Nomor)\n",
    "df = df.drop(columns=['No'])\n",
    "# buang data duplikat, jika ada\n",
    "df = df.drop_duplicates()\n",
    "# urutkan data berdasarkan datetime.\n",
    "df = df.sort_values(by='datetime').reset_index(drop=True)"
   ]
  },
  {
   "cell_type": "code",
   "execution_count": 5,
   "metadata": {},
   "outputs": [
    {
     "data": {
      "text/plain": [
       "{0.0, 1.0, 2.0, 3.0, 4.0, 5.0, 6.0, nan, 27.0}"
      ]
     },
     "execution_count": 5,
     "metadata": {},
     "output_type": "execute_result"
    }
   ],
   "source": [
    "# cek selisih waktu event gempa dengan event sebelumnya\n",
    "time_diff = df.datetime.sort_values().diff(periods=1)\n",
    "\n",
    "# tampilkan semua selisih hari antar event gempa\n",
    "set(time_diff.apply(lambda x: x.days))\n",
    "# {0.0, 1.0, 2.0, 3.0, 4.0, 5.0, 6.0, nan, 27.0}"
   ]
  },
  {
   "cell_type": "code",
   "execution_count": 6,
   "metadata": {},
   "outputs": [
    {
     "data": {
      "text/plain": [
       "102514   2023-04-15 15:07:07.565140+00:00\n",
       "Name: datetime, dtype: datetime64[ns, UTC]"
      ]
     },
     "execution_count": 6,
     "metadata": {},
     "output_type": "execute_result"
    }
   ],
   "source": [
    "df.tail(1)['datetime']"
   ]
  },
  {
   "cell_type": "code",
   "execution_count": 7,
   "metadata": {},
   "outputs": [],
   "source": [
    "df.to_csv('earthquakes.tsv', sep='\\t')"
   ]
  }
 ],
 "metadata": {
  "kernelspec": {
   "display_name": "repo-gempa-p1kMxOmX-py3.10",
   "language": "python",
   "name": "python3"
  },
  "language_info": {
   "codemirror_mode": {
    "name": "ipython",
    "version": 3
   },
   "file_extension": ".py",
   "mimetype": "text/x-python",
   "name": "python",
   "nbconvert_exporter": "python",
   "pygments_lexer": "ipython3",
   "version": "3.10.6"
  },
  "orig_nbformat": 4
 },
 "nbformat": 4,
 "nbformat_minor": 2
}
